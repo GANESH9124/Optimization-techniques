{
 "cells": [
  {
   "cell_type": "code",
   "execution_count": 51,
   "id": "64d72910",
   "metadata": {},
   "outputs": [
    {
     "name": "stdout",
     "output_type": "stream",
     "text": [
      "-0.9995867656019432 1.499332799440006\n",
      "0.00031853647223956116 -0.0005079323238739164\n"
     ]
    }
   ],
   "source": [
    "#gradient descent algorithm\n",
    "\n",
    "import numpy as np\n",
    "\n",
    "# declare target function\n",
    "def target(x,y):\n",
    "    return x - y +(2*(x**2))+(2*x*y)+(y**2)\n",
    "\n",
    "# function for partial derivatives\n",
    "def partial_dev_res_x(x,y):\n",
    "    return 1+(4*x)+(2*y)\n",
    "def partial_dev_res_y(x,y):\n",
    "    return -1+(2*x)+(2*y)\n",
    "\n",
    "#initialise parameters \n",
    "x=0\n",
    "y=0\n",
    "learning_rate=0.01\n",
    "\n",
    "for i in range(1000):\n",
    "#     update values of x,y\n",
    "    x = x - learning_rate*(partial_dev_res_x(x,y))\n",
    "    y = y - learning_rate*(partial_dev_res_y(x,y))\n",
    "    \n",
    "\n",
    "print(x,y)\n",
    "print(partial_dev_res_x(x,y),partial_dev_res_y(x,y))"
   ]
  },
  {
   "cell_type": "code",
   "execution_count": 44,
   "id": "165d313f",
   "metadata": {},
   "outputs": [
    {
     "name": "stdout",
     "output_type": "stream",
     "text": [
      "inf\n"
     ]
    }
   ],
   "source": [
    "import numpy as np\n",
    "e1=np.inf\n",
    "print(e1*2)"
   ]
  },
  {
   "cell_type": "code",
   "execution_count": null,
   "id": "e6f7a2f8",
   "metadata": {},
   "outputs": [],
   "source": []
  }
 ],
 "metadata": {
  "kernelspec": {
   "display_name": "Python 3 (ipykernel)",
   "language": "python",
   "name": "python3"
  },
  "language_info": {
   "codemirror_mode": {
    "name": "ipython",
    "version": 3
   },
   "file_extension": ".py",
   "mimetype": "text/x-python",
   "name": "python",
   "nbconvert_exporter": "python",
   "pygments_lexer": "ipython3",
   "version": "3.9.12"
  }
 },
 "nbformat": 4,
 "nbformat_minor": 5
}
